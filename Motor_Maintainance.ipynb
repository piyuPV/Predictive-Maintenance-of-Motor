{
 "cells": [
  {
   "cell_type": "code",
   "execution_count": 35,
   "id": "156cd9f3",
   "metadata": {},
   "outputs": [],
   "source": [
    "import numpy as np\n",
    "import pandas as pd\n",
    "\n",
    "from sklearn.cluster import KMeans\n",
    "from matplotlib import pyplot as plt\n",
    "import seaborn as sns\n",
    "\n",
    "from sklearn.metrics import accuracy_score"
   ]
  },
  {
   "cell_type": "code",
   "execution_count": 36,
   "id": "a82c0881",
   "metadata": {},
   "outputs": [],
   "source": [
    "df = pd.read_csv(\"feeds.csv\")"
   ]
  },
  {
   "cell_type": "code",
   "execution_count": 37,
   "id": "a797516a",
   "metadata": {},
   "outputs": [
    {
     "data": {
      "text/html": [
       "<div>\n",
       "<style scoped>\n",
       "    .dataframe tbody tr th:only-of-type {\n",
       "        vertical-align: middle;\n",
       "    }\n",
       "\n",
       "    .dataframe tbody tr th {\n",
       "        vertical-align: top;\n",
       "    }\n",
       "\n",
       "    .dataframe thead th {\n",
       "        text-align: right;\n",
       "    }\n",
       "</style>\n",
       "<table border=\"1\" class=\"dataframe\">\n",
       "  <thead>\n",
       "    <tr style=\"text-align: right;\">\n",
       "      <th></th>\n",
       "      <th>current</th>\n",
       "      <th>voltage</th>\n",
       "      <th>temperature</th>\n",
       "      <th>humidity</th>\n",
       "      <th>vibration</th>\n",
       "    </tr>\n",
       "  </thead>\n",
       "  <tbody>\n",
       "    <tr>\n",
       "      <th>198</th>\n",
       "      <td>5.8</td>\n",
       "      <td>232.0</td>\n",
       "      <td>59.22</td>\n",
       "      <td>68.0</td>\n",
       "      <td>0.0</td>\n",
       "    </tr>\n",
       "    <tr>\n",
       "      <th>199</th>\n",
       "      <td>NaN</td>\n",
       "      <td>NaN</td>\n",
       "      <td>NaN</td>\n",
       "      <td>NaN</td>\n",
       "      <td>NaN</td>\n",
       "    </tr>\n",
       "    <tr>\n",
       "      <th>200</th>\n",
       "      <td>NaN</td>\n",
       "      <td>NaN</td>\n",
       "      <td>NaN</td>\n",
       "      <td>NaN</td>\n",
       "      <td>NaN</td>\n",
       "    </tr>\n",
       "    <tr>\n",
       "      <th>201</th>\n",
       "      <td>NaN</td>\n",
       "      <td>NaN</td>\n",
       "      <td>NaN</td>\n",
       "      <td>NaN</td>\n",
       "      <td>NaN</td>\n",
       "    </tr>\n",
       "    <tr>\n",
       "      <th>202</th>\n",
       "      <td>NaN</td>\n",
       "      <td>NaN</td>\n",
       "      <td>NaN</td>\n",
       "      <td>NaN</td>\n",
       "      <td>NaN</td>\n",
       "    </tr>\n",
       "  </tbody>\n",
       "</table>\n",
       "</div>"
      ],
      "text/plain": [
       "     current  voltage  temperature  humidity  vibration\n",
       "198      5.8    232.0        59.22      68.0        0.0\n",
       "199      NaN      NaN          NaN       NaN        NaN\n",
       "200      NaN      NaN          NaN       NaN        NaN\n",
       "201      NaN      NaN          NaN       NaN        NaN\n",
       "202      NaN      NaN          NaN       NaN        NaN"
      ]
     },
     "execution_count": 37,
     "metadata": {},
     "output_type": "execute_result"
    }
   ],
   "source": [
    "df.tail()"
   ]
  },
  {
   "cell_type": "code",
   "execution_count": 38,
   "id": "9e3bd7eb",
   "metadata": {},
   "outputs": [],
   "source": [
    "#Removing Null values\n",
    "update_df = df.drop([199, 200, 201,202])"
   ]
  },
  {
   "cell_type": "code",
   "execution_count": 39,
   "id": "c3f277f0",
   "metadata": {},
   "outputs": [
    {
     "data": {
      "text/html": [
       "<div>\n",
       "<style scoped>\n",
       "    .dataframe tbody tr th:only-of-type {\n",
       "        vertical-align: middle;\n",
       "    }\n",
       "\n",
       "    .dataframe tbody tr th {\n",
       "        vertical-align: top;\n",
       "    }\n",
       "\n",
       "    .dataframe thead th {\n",
       "        text-align: right;\n",
       "    }\n",
       "</style>\n",
       "<table border=\"1\" class=\"dataframe\">\n",
       "  <thead>\n",
       "    <tr style=\"text-align: right;\">\n",
       "      <th></th>\n",
       "      <th>current</th>\n",
       "      <th>voltage</th>\n",
       "      <th>temperature</th>\n",
       "      <th>humidity</th>\n",
       "      <th>vibration</th>\n",
       "    </tr>\n",
       "  </thead>\n",
       "  <tbody>\n",
       "    <tr>\n",
       "      <th>0</th>\n",
       "      <td>5.1</td>\n",
       "      <td>229.0</td>\n",
       "      <td>65.23</td>\n",
       "      <td>68.0</td>\n",
       "      <td>0.0</td>\n",
       "    </tr>\n",
       "    <tr>\n",
       "      <th>1</th>\n",
       "      <td>5.9</td>\n",
       "      <td>230.0</td>\n",
       "      <td>65.56</td>\n",
       "      <td>70.0</td>\n",
       "      <td>1.0</td>\n",
       "    </tr>\n",
       "    <tr>\n",
       "      <th>2</th>\n",
       "      <td>8.2</td>\n",
       "      <td>227.0</td>\n",
       "      <td>65.62</td>\n",
       "      <td>68.0</td>\n",
       "      <td>1.0</td>\n",
       "    </tr>\n",
       "    <tr>\n",
       "      <th>3</th>\n",
       "      <td>5.5</td>\n",
       "      <td>235.0</td>\n",
       "      <td>65.29</td>\n",
       "      <td>69.0</td>\n",
       "      <td>0.0</td>\n",
       "    </tr>\n",
       "    <tr>\n",
       "      <th>4</th>\n",
       "      <td>5.3</td>\n",
       "      <td>235.0</td>\n",
       "      <td>60.42</td>\n",
       "      <td>70.0</td>\n",
       "      <td>0.0</td>\n",
       "    </tr>\n",
       "    <tr>\n",
       "      <th>...</th>\n",
       "      <td>...</td>\n",
       "      <td>...</td>\n",
       "      <td>...</td>\n",
       "      <td>...</td>\n",
       "      <td>...</td>\n",
       "    </tr>\n",
       "    <tr>\n",
       "      <th>194</th>\n",
       "      <td>5.7</td>\n",
       "      <td>235.0</td>\n",
       "      <td>59.57</td>\n",
       "      <td>68.0</td>\n",
       "      <td>0.0</td>\n",
       "    </tr>\n",
       "    <tr>\n",
       "      <th>195</th>\n",
       "      <td>5.7</td>\n",
       "      <td>225.0</td>\n",
       "      <td>59.78</td>\n",
       "      <td>68.0</td>\n",
       "      <td>0.0</td>\n",
       "    </tr>\n",
       "    <tr>\n",
       "      <th>196</th>\n",
       "      <td>5.9</td>\n",
       "      <td>231.0</td>\n",
       "      <td>63.28</td>\n",
       "      <td>69.0</td>\n",
       "      <td>1.0</td>\n",
       "    </tr>\n",
       "    <tr>\n",
       "      <th>197</th>\n",
       "      <td>5.1</td>\n",
       "      <td>226.0</td>\n",
       "      <td>66.32</td>\n",
       "      <td>70.0</td>\n",
       "      <td>0.0</td>\n",
       "    </tr>\n",
       "    <tr>\n",
       "      <th>198</th>\n",
       "      <td>5.8</td>\n",
       "      <td>232.0</td>\n",
       "      <td>59.22</td>\n",
       "      <td>68.0</td>\n",
       "      <td>0.0</td>\n",
       "    </tr>\n",
       "  </tbody>\n",
       "</table>\n",
       "<p>199 rows × 5 columns</p>\n",
       "</div>"
      ],
      "text/plain": [
       "     current  voltage  temperature  humidity  vibration\n",
       "0        5.1    229.0        65.23      68.0        0.0\n",
       "1        5.9    230.0        65.56      70.0        1.0\n",
       "2        8.2    227.0        65.62      68.0        1.0\n",
       "3        5.5    235.0        65.29      69.0        0.0\n",
       "4        5.3    235.0        60.42      70.0        0.0\n",
       "..       ...      ...          ...       ...        ...\n",
       "194      5.7    235.0        59.57      68.0        0.0\n",
       "195      5.7    225.0        59.78      68.0        0.0\n",
       "196      5.9    231.0        63.28      69.0        1.0\n",
       "197      5.1    226.0        66.32      70.0        0.0\n",
       "198      5.8    232.0        59.22      68.0        0.0\n",
       "\n",
       "[199 rows x 5 columns]"
      ]
     },
     "execution_count": 39,
     "metadata": {},
     "output_type": "execute_result"
    }
   ],
   "source": [
    "update_df"
   ]
  },
  {
   "cell_type": "code",
   "execution_count": 40,
   "id": "c37fa044",
   "metadata": {},
   "outputs": [
    {
     "data": {
      "text/html": [
       "<div>\n",
       "<style scoped>\n",
       "    .dataframe tbody tr th:only-of-type {\n",
       "        vertical-align: middle;\n",
       "    }\n",
       "\n",
       "    .dataframe tbody tr th {\n",
       "        vertical-align: top;\n",
       "    }\n",
       "\n",
       "    .dataframe thead th {\n",
       "        text-align: right;\n",
       "    }\n",
       "</style>\n",
       "<table border=\"1\" class=\"dataframe\">\n",
       "  <thead>\n",
       "    <tr style=\"text-align: right;\">\n",
       "      <th></th>\n",
       "      <th>current</th>\n",
       "      <th>voltage</th>\n",
       "      <th>temperature</th>\n",
       "      <th>humidity</th>\n",
       "      <th>vibration</th>\n",
       "    </tr>\n",
       "  </thead>\n",
       "  <tbody>\n",
       "    <tr>\n",
       "      <th>count</th>\n",
       "      <td>199.000000</td>\n",
       "      <td>199.000000</td>\n",
       "      <td>199.000000</td>\n",
       "      <td>199.000000</td>\n",
       "      <td>199.000000</td>\n",
       "    </tr>\n",
       "    <tr>\n",
       "      <th>mean</th>\n",
       "      <td>5.683417</td>\n",
       "      <td>231.311558</td>\n",
       "      <td>61.063869</td>\n",
       "      <td>69.085427</td>\n",
       "      <td>0.070352</td>\n",
       "    </tr>\n",
       "    <tr>\n",
       "      <th>std</th>\n",
       "      <td>0.596434</td>\n",
       "      <td>3.411717</td>\n",
       "      <td>3.616215</td>\n",
       "      <td>0.851463</td>\n",
       "      <td>0.256384</td>\n",
       "    </tr>\n",
       "    <tr>\n",
       "      <th>min</th>\n",
       "      <td>5.000000</td>\n",
       "      <td>225.000000</td>\n",
       "      <td>55.200000</td>\n",
       "      <td>68.000000</td>\n",
       "      <td>0.000000</td>\n",
       "    </tr>\n",
       "    <tr>\n",
       "      <th>25%</th>\n",
       "      <td>5.300000</td>\n",
       "      <td>229.000000</td>\n",
       "      <td>58.780000</td>\n",
       "      <td>68.000000</td>\n",
       "      <td>0.000000</td>\n",
       "    </tr>\n",
       "    <tr>\n",
       "      <th>50%</th>\n",
       "      <td>5.700000</td>\n",
       "      <td>232.000000</td>\n",
       "      <td>59.880000</td>\n",
       "      <td>69.000000</td>\n",
       "      <td>0.000000</td>\n",
       "    </tr>\n",
       "    <tr>\n",
       "      <th>75%</th>\n",
       "      <td>5.900000</td>\n",
       "      <td>234.000000</td>\n",
       "      <td>63.340000</td>\n",
       "      <td>70.000000</td>\n",
       "      <td>0.000000</td>\n",
       "    </tr>\n",
       "    <tr>\n",
       "      <th>max</th>\n",
       "      <td>8.200000</td>\n",
       "      <td>235.000000</td>\n",
       "      <td>67.910000</td>\n",
       "      <td>70.000000</td>\n",
       "      <td>1.000000</td>\n",
       "    </tr>\n",
       "  </tbody>\n",
       "</table>\n",
       "</div>"
      ],
      "text/plain": [
       "          current     voltage  temperature    humidity   vibration\n",
       "count  199.000000  199.000000   199.000000  199.000000  199.000000\n",
       "mean     5.683417  231.311558    61.063869   69.085427    0.070352\n",
       "std      0.596434    3.411717     3.616215    0.851463    0.256384\n",
       "min      5.000000  225.000000    55.200000   68.000000    0.000000\n",
       "25%      5.300000  229.000000    58.780000   68.000000    0.000000\n",
       "50%      5.700000  232.000000    59.880000   69.000000    0.000000\n",
       "75%      5.900000  234.000000    63.340000   70.000000    0.000000\n",
       "max      8.200000  235.000000    67.910000   70.000000    1.000000"
      ]
     },
     "execution_count": 40,
     "metadata": {},
     "output_type": "execute_result"
    }
   ],
   "source": [
    "update_df.describe()"
   ]
  },
  {
   "cell_type": "code",
   "execution_count": 41,
   "id": "7bb3d2fd",
   "metadata": {},
   "outputs": [
    {
     "data": {
      "text/plain": [
       "(199, 5)"
      ]
     },
     "execution_count": 41,
     "metadata": {},
     "output_type": "execute_result"
    }
   ],
   "source": [
    "update_df.shape"
   ]
  },
  {
   "cell_type": "code",
   "execution_count": 42,
   "id": "09385330",
   "metadata": {
    "scrolled": true
   },
   "outputs": [
    {
     "name": "stdout",
     "output_type": "stream",
     "text": [
      "<class 'pandas.core.frame.DataFrame'>\n",
      "RangeIndex: 199 entries, 0 to 198\n",
      "Data columns (total 5 columns):\n",
      " #   Column       Non-Null Count  Dtype  \n",
      "---  ------       --------------  -----  \n",
      " 0   current      199 non-null    float64\n",
      " 1   voltage      199 non-null    float64\n",
      " 2   temperature  199 non-null    float64\n",
      " 3   humidity     199 non-null    float64\n",
      " 4   vibration    199 non-null    float64\n",
      "dtypes: float64(5)\n",
      "memory usage: 7.9 KB\n"
     ]
    }
   ],
   "source": [
    "update_df.info()"
   ]
  },
  {
   "cell_type": "code",
   "execution_count": 43,
   "id": "cb646de3",
   "metadata": {},
   "outputs": [
    {
     "data": {
      "text/plain": [
       "current        0\n",
       "voltage        0\n",
       "temperature    0\n",
       "humidity       0\n",
       "vibration      0\n",
       "dtype: int64"
      ]
     },
     "execution_count": 43,
     "metadata": {},
     "output_type": "execute_result"
    }
   ],
   "source": [
    "update_df.isnull().sum()"
   ]
  },
  {
   "cell_type": "code",
   "execution_count": 44,
   "id": "c2a405e4",
   "metadata": {},
   "outputs": [],
   "source": [
    "x = update_df.iloc[:,[0,1,2,3,4]].values"
   ]
  },
  {
   "cell_type": "code",
   "execution_count": 45,
   "id": "d7cab054",
   "metadata": {},
   "outputs": [
    {
     "name": "stdout",
     "output_type": "stream",
     "text": [
      "[[  5.1  229.    65.23  68.     0.  ]\n",
      " [  5.9  230.    65.56  70.     1.  ]\n",
      " [  8.2  227.    65.62  68.     1.  ]\n",
      " [  5.5  235.    65.29  69.     0.  ]\n",
      " [  5.3  235.    60.42  70.     0.  ]\n",
      " [  5.3  230.    59.22  69.     0.  ]\n",
      " [  5.2  226.    63.34  69.     0.  ]\n",
      " [  5.7  234.    66.4   70.     0.  ]\n",
      " [  5.3  234.    59.57  68.     0.  ]\n",
      " [  5.8  231.    59.78  69.     0.  ]\n",
      " [  5.7  230.    56.16  68.     0.  ]\n",
      " [  6.   233.    56.06  70.     0.  ]\n",
      " [  5.4  233.    63.6   68.     0.  ]\n",
      " [  5.7  230.    61.48  70.     0.  ]\n",
      " [  5.5  225.    67.91  70.     0.  ]\n",
      " [  5.4  232.    63.58  70.     0.  ]\n",
      " [  5.5  225.    64.31  68.     0.  ]\n",
      " [  5.2  233.    59.73  70.     0.  ]\n",
      " [  5.5  233.    67.89  70.     0.  ]\n",
      " [  5.6  226.    61.82  68.     0.  ]\n",
      " [  5.3  234.    67.17  69.     0.  ]\n",
      " [  5.6  235.    58.89  68.     0.  ]\n",
      " [  5.4  234.    56.25  69.     0.  ]\n",
      " [  5.   231.    55.2   68.     0.  ]\n",
      " [  5.9  235.    58.78  68.     0.  ]\n",
      " [  5.1  226.    62.41  70.     0.  ]\n",
      " [  5.8  232.    59.88  70.     0.  ]\n",
      " [  6.   234.    67.62  69.     0.  ]\n",
      " [  5.9  231.    60.84  70.     0.  ]\n",
      " [  5.2  229.    66.73  68.     0.  ]\n",
      " [  5.9  231.    55.28  68.     0.  ]\n",
      " [  5.9  234.    59.31  69.     0.  ]\n",
      " [  5.4  232.    58.23  68.     0.  ]\n",
      " [  5.8  233.    60.56  69.     0.  ]\n",
      " [  5.7  235.    63.28  70.     0.  ]\n",
      " [  5.7  225.    66.32  70.     0.  ]\n",
      " [  5.1  229.    65.23  68.     0.  ]\n",
      " [  5.9  230.    65.56  68.     0.  ]\n",
      " [  8.2  227.    65.62  68.     0.  ]\n",
      " [  5.5  235.    65.29  69.     0.  ]\n",
      " [  5.3  235.    60.42  69.     0.  ]\n",
      " [  5.1  226.    62.41  70.     0.  ]\n",
      " [  5.8  232.    59.88  69.     0.  ]\n",
      " [  6.   234.    67.62  70.     0.  ]\n",
      " [  5.9  231.    60.84  70.     0.  ]\n",
      " [  5.9  234.    59.31  69.     0.  ]\n",
      " [  5.4  232.    58.23  70.     0.  ]\n",
      " [  5.8  233.    60.56  68.     0.  ]\n",
      " [  5.7  235.    63.28  70.     0.  ]\n",
      " [  5.7  225.    66.32  69.     0.  ]\n",
      " [  5.6  226.    61.82  70.     0.  ]\n",
      " [  5.3  234.    67.17  69.     1.  ]\n",
      " [  5.6  235.    58.89  69.     1.  ]\n",
      " [  5.4  234.    56.25  68.     0.  ]\n",
      " [  5.   231.    55.2   69.     0.  ]\n",
      " [  5.9  235.    58.78  68.     0.  ]\n",
      " [  5.5  235.    66.73  70.     0.  ]\n",
      " [  5.3  235.    55.28  68.     0.  ]\n",
      " [  5.1  226.    59.31  68.     0.  ]\n",
      " [  5.8  232.    58.23  70.     0.  ]\n",
      " [  6.   234.    60.56  69.     0.  ]\n",
      " [  5.9  231.    63.28  69.     0.  ]\n",
      " [  5.1  226.    66.32  70.     0.  ]\n",
      " [  5.8  232.    59.22  68.     0.  ]\n",
      " [  6.   234.    63.34  70.     0.  ]\n",
      " [  5.9  231.    66.4   70.     0.  ]\n",
      " [  5.7  235.    59.57  70.     0.  ]\n",
      " [  5.7  225.    59.78  68.     0.  ]\n",
      " [  5.1  229.    56.16  69.     0.  ]\n",
      " [  5.9  230.    56.06  69.     0.  ]\n",
      " [  8.2  227.    58.78  70.     0.  ]\n",
      " [  5.5  235.    62.41  70.     0.  ]\n",
      " [  5.3  235.    59.88  68.     0.  ]\n",
      " [  5.9  234.    59.31  68.     0.  ]\n",
      " [  5.5  225.    64.31  69.     0.  ]\n",
      " [  5.2  233.    59.73  68.     0.  ]\n",
      " [  5.5  233.    66.4   70.     0.  ]\n",
      " [  5.6  226.    59.57  68.     0.  ]\n",
      " [  5.3  234.    59.78  70.     0.  ]\n",
      " [  5.6  235.    56.16  69.     0.  ]\n",
      " [  5.4  234.    56.06  68.     0.  ]\n",
      " [  5.   231.    55.2   70.     0.  ]\n",
      " [  5.9  235.    58.78  68.     0.  ]\n",
      " [  5.1  226.    62.41  70.     0.  ]\n",
      " [  5.8  232.    59.88  68.     0.  ]\n",
      " [  5.1  229.    59.57  69.     0.  ]\n",
      " [  5.9  230.    59.78  70.     0.  ]\n",
      " [  8.2  227.    56.16  68.     0.  ]\n",
      " [  5.5  235.    56.06  69.     0.  ]\n",
      " [  5.3  235.    58.78  70.     0.  ]\n",
      " [  5.3  230.    62.41  70.     0.  ]\n",
      " [  5.2  226.    59.88  68.     0.  ]\n",
      " [  5.7  234.    59.31  68.     0.  ]\n",
      " [  5.3  234.    63.28  70.     0.  ]\n",
      " [  5.8  231.    66.32  68.     0.  ]\n",
      " [  5.6  226.    61.82  70.     0.  ]\n",
      " [  5.3  234.    67.17  68.     1.  ]\n",
      " [  5.6  235.    58.89  68.     1.  ]\n",
      " [  5.4  234.    56.25  68.     0.  ]\n",
      " [  5.   231.    55.2   70.     0.  ]\n",
      " [  5.9  235.    58.78  70.     0.  ]\n",
      " [  5.5  235.    56.16  70.     0.  ]\n",
      " [  5.3  235.    56.06  68.     0.  ]\n",
      " [  5.1  226.    58.78  68.     0.  ]\n",
      " [  5.8  232.    62.41  70.     0.  ]\n",
      " [  5.5  235.    66.73  70.     0.  ]\n",
      " [  5.3  235.    55.28  70.     0.  ]\n",
      " [  5.1  226.    59.31  69.     0.  ]\n",
      " [  5.8  232.    58.23  69.     0.  ]\n",
      " [  6.   234.    60.56  68.     0.  ]\n",
      " [  5.9  231.    63.28  69.     0.  ]\n",
      " [  5.1  226.    66.32  70.     0.  ]\n",
      " [  5.8  232.    59.22  70.     0.  ]\n",
      " [  5.1  226.    59.31  70.     0.  ]\n",
      " [  5.8  232.    58.23  68.     0.  ]\n",
      " [  6.   234.    60.56  70.     0.  ]\n",
      " [  5.9  231.    63.28  69.     0.  ]\n",
      " [  5.1  226.    66.32  70.     0.  ]\n",
      " [  5.8  232.    59.22  70.     0.  ]\n",
      " [  6.   234.    63.34  69.     0.  ]\n",
      " [  5.9  231.    66.4   69.     0.  ]\n",
      " [  5.7  235.    59.57  70.     0.  ]\n",
      " [  5.7  225.    59.78  69.     0.  ]\n",
      " [  5.1  229.    56.16  70.     0.  ]\n",
      " [  5.9  230.    56.06  70.     0.  ]\n",
      " [  8.2  227.    58.78  70.     0.  ]\n",
      " [  5.5  235.    62.41  69.     0.  ]\n",
      " [  5.3  235.    59.88  68.     0.  ]\n",
      " [  5.8  230.    62.41  69.     0.  ]\n",
      " [  6.   226.    59.88  70.     0.  ]\n",
      " [  5.9  234.    59.31  70.     0.  ]\n",
      " [  5.1  234.    63.28  70.     0.  ]\n",
      " [  5.8  231.    66.32  70.     0.  ]\n",
      " [  6.   226.    61.82  70.     0.  ]\n",
      " [  5.9  234.    67.17  69.     1.  ]\n",
      " [  5.7  235.    58.89  68.     1.  ]\n",
      " [  5.7  234.    56.25  70.     0.  ]\n",
      " [  5.1  231.    55.2   70.     0.  ]\n",
      " [  5.9  235.    58.78  70.     0.  ]\n",
      " [  8.2  235.    56.16  69.     0.  ]\n",
      " [  5.8  235.    56.06  68.     0.  ]\n",
      " [  6.   226.    58.78  69.     0.  ]\n",
      " [  5.9  232.    62.41  70.     0.  ]\n",
      " [  5.7  226.    61.82  68.     0.  ]\n",
      " [  5.7  234.    67.17  69.     0.  ]\n",
      " [  5.2  226.    59.31  68.     0.  ]\n",
      " [  5.7  234.    63.28  68.     0.  ]\n",
      " [  5.3  234.    66.32  68.     0.  ]\n",
      " [  5.8  231.    61.82  70.     0.  ]\n",
      " [  5.6  226.    67.17  70.     1.  ]\n",
      " [  5.3  234.    58.89  70.     1.  ]\n",
      " [  5.6  235.    56.25  69.     0.  ]\n",
      " [  5.4  234.    55.2   69.     0.  ]\n",
      " [  6.   234.    60.56  69.     0.  ]\n",
      " [  5.9  231.    63.28  69.     0.  ]\n",
      " [  5.1  226.    66.32  70.     0.  ]\n",
      " [  5.8  232.    59.22  69.     0.  ]\n",
      " [  6.   234.    63.34  70.     0.  ]\n",
      " [  5.9  231.    66.4   70.     0.  ]\n",
      " [  5.7  235.    59.57  68.     0.  ]\n",
      " [  5.7  225.    59.78  70.     0.  ]\n",
      " [  5.1  229.    56.16  69.     0.  ]\n",
      " [  5.9  230.    56.06  69.     0.  ]\n",
      " [  8.2  227.    58.78  70.     0.  ]\n",
      " [  5.5  235.    62.41  70.     0.  ]\n",
      " [  5.3  235.    59.88  70.     0.  ]\n",
      " [  5.1  226.    66.32  69.     1.  ]\n",
      " [  5.8  232.    59.22  68.     0.  ]\n",
      " [  6.   234.    63.34  69.     0.  ]\n",
      " [  5.9  231.    66.4   70.     0.  ]\n",
      " [  5.7  235.    59.57  70.     0.  ]\n",
      " [  5.7  225.    59.78  68.     0.  ]\n",
      " [  5.1  229.    56.16  70.     0.  ]\n",
      " [  5.9  230.    56.06  69.     0.  ]\n",
      " [  8.2  227.    58.78  70.     0.  ]\n",
      " [  5.5  235.    62.41  68.     0.  ]\n",
      " [  5.2  226.    59.31  70.     0.  ]\n",
      " [  5.7  234.    63.28  68.     0.  ]\n",
      " [  5.3  234.    66.32  69.     0.  ]\n",
      " [  5.8  231.    61.82  69.     0.  ]\n",
      " [  5.6  226.    67.17  70.     0.  ]\n",
      " [  5.3  234.    58.89  68.     0.  ]\n",
      " [  5.6  235.    56.25  69.     0.  ]\n",
      " [  5.4  234.    55.2   68.     0.  ]\n",
      " [  6.   234.    60.56  68.     0.  ]\n",
      " [  5.9  231.    63.28  69.     1.  ]\n",
      " [  5.1  226.    66.32  69.     1.  ]\n",
      " [  5.8  232.    59.22  68.     0.  ]\n",
      " [  5.5  235.    62.41  68.     0.  ]\n",
      " [  5.3  235.    59.88  68.     0.  ]\n",
      " [  5.1  226.    66.32  68.     0.  ]\n",
      " [  5.8  232.    59.22  70.     0.  ]\n",
      " [  6.   234.    63.34  70.     0.  ]\n",
      " [  5.9  231.    66.4   68.     0.  ]\n",
      " [  5.7  235.    59.57  68.     0.  ]\n",
      " [  5.7  225.    59.78  68.     0.  ]\n",
      " [  5.9  231.    63.28  69.     1.  ]\n",
      " [  5.1  226.    66.32  70.     0.  ]\n",
      " [  5.8  232.    59.22  68.     0.  ]]\n"
     ]
    }
   ],
   "source": [
    "print(x)"
   ]
  },
  {
   "cell_type": "code",
   "execution_count": 46,
   "id": "5b5a8606",
   "metadata": {},
   "outputs": [
    {
     "name": "stderr",
     "output_type": "stream",
     "text": [
      "C:\\Users\\princ\\anaconda3\\lib\\site-packages\\sklearn\\cluster\\_kmeans.py:1036: UserWarning: KMeans is known to have a memory leak on Windows with MKL, when there are less chunks than available threads. You can avoid it by setting the environment variable OMP_NUM_THREADS=1.\n",
      "  warnings.warn(\n"
     ]
    }
   ],
   "source": [
    "#using wcss\n",
    "\n",
    "wcss = []\n",
    "for i in range(1,11):\n",
    "    kmeans = KMeans(n_clusters = i,init = 'k-means++', random_state = 0)\n",
    "    kmeans.fit(x)\n",
    "    wcss.append(kmeans.inertia_)"
   ]
  },
  {
   "cell_type": "code",
   "execution_count": 60,
   "id": "6f0fdf3a",
   "metadata": {},
   "outputs": [
    {
     "data": {
      "image/png": "[encoded data removed]",
      "text/plain": [
       "<Figure size 640x480 with 1 Axes>"
      ]
     },
     "metadata": {},
     "output_type": "display_data"
    }
   ],
   "source": [
    "#plot elbow graph\n",
    "\n",
    "sns.set()\n",
    "plt.plot(range(1,11), wcss)\n",
    "plt.title('Elbow point graph')\n",
    "plt.xlabel('No. of clusters')\n",
    "plt.ylabel('WCSS')\n",
    "plt.show()"
   ]
  },
  {
   "cell_type": "code",
   "execution_count": 61,
   "id": "fcb0215e",
   "metadata": {},
   "outputs": [],
   "source": [
    "#Optimum no. of cluster is 2\n",
    "\n",
    "kmeans = KMeans(n_clusters = 2,init = 'k-means++', random_state = 0)\n",
    "\n",
    "y = kmeans.fit_predict(x)"
   ]
  },
  {
   "cell_type": "code",
   "execution_count": 62,
   "id": "c003a019",
   "metadata": {},
   "outputs": [
    {
     "name": "stdout",
     "output_type": "stream",
     "text": [
      "[1 1 1 1 0 0 1 1 0 0 0 0 1 1 1 1 1 0 1 1 1 0 0 0 0 1 0 1 1 1 0 0 0 0 0 1 1\n",
      " 1 1 1 0 1 0 1 1 0 0 0 0 1 1 1 0 0 0 0 1 0 1 0 0 1 1 0 1 1 0 1 0 0 1 0 0 0\n",
      " 1 0 1 1 0 0 0 0 0 1 0 1 0 0 0 0 1 1 0 1 1 1 1 0 0 0 0 0 0 1 1 1 0 1 0 0 1\n",
      " 1 0 1 0 0 1 1 0 1 1 0 1 0 0 1 0 0 1 1 0 1 1 1 1 0 0 0 0 0 0 1 1 1 1 1 1 1\n",
      " 1 1 0 0 0 0 1 1 0 1 1 0 1 0 0 1 0 0 1 0 1 1 0 1 0 0 1 0 1 1 1 1 1 0 0 0 0\n",
      " 1 1 0 0 0 1 0 1 1 0 1 1 1 0]\n"
     ]
    }
   ],
   "source": [
    "print(y)"
   ]
  },
  {
   "cell_type": "code",
   "execution_count": 63,
   "id": "bc7bb1e6",
   "metadata": {},
   "outputs": [
    {
     "data": {
      "image/png": "[encoded data removed]",
      "text/plain": [
       "<Figure size 800x800 with 1 Axes>"
      ]
     },
     "metadata": {},
     "output_type": "display_data"
    }
   ],
   "source": [
    "#scater plot\n",
    "#visualiszing ploting\n",
    "plt.figure(figsize = (8,8))\n",
    "plt.scatter(x[y == 0,0], x[y == 0,1], s = 50, c= 'yellow', label ='C1')\n",
    "plt.scatter(x[y == 1,0], x[y == 1,1], s = 50, c= 'blue', label ='C2')\n",
    "\n",
    "\n",
    "plt.scatter(kmeans.cluster_centers_[:,0], kmeans.cluster_centers_[:,1], s= 100, c='green', label ='Centroid')\n",
    "plt.show()"
   ]
  },
  {
   "cell_type": "code",
   "execution_count": 64,
   "id": "24eff907",
   "metadata": {},
   "outputs": [
    {
     "data": {
      "image/png": "[encoded data removed]",
      "text/plain": [
       "<Figure size 640x480 with 2 Axes>"
      ]
     },
     "metadata": {},
     "output_type": "display_data"
    }
   ],
   "source": [
    "sns.heatmap(update_df.corr(),annot=True)\n",
    "plt.show()"
   ]
  },
  {
   "cell_type": "code",
   "execution_count": 65,
   "id": "74859612",
   "metadata": {},
   "outputs": [],
   "source": [
    "from sklearn.ensemble import RandomForestClassifier  \n",
    "from sklearn.metrics import accuracy_score\n",
    "from sklearn.model_selection import train_test_split\n",
    "classifier= RandomForestClassifier(n_estimators= 10, criterion=\"entropy\")"
   ]
  },
  {
   "cell_type": "code",
   "execution_count": 66,
   "id": "827b4615",
   "metadata": {},
   "outputs": [
    {
     "data": {
      "text/plain": [
       "RandomForestClassifier(criterion='entropy', n_estimators=10)"
      ]
     },
     "execution_count": 66,
     "metadata": {},
     "output_type": "execute_result"
    }
   ],
   "source": [
    "classifier.fit(x,y)"
   ]
  },
  {
   "cell_type": "code",
   "execution_count": 67,
   "id": "dfbd7f10",
   "metadata": {},
   "outputs": [
    {
     "data": {
      "text/plain": [
       "array([1, 1, 1, 1, 0, 0, 1, 1, 0, 0, 0, 0, 1, 1, 1, 1, 1, 0, 1, 1, 1, 0,\n",
       "       0, 0, 0, 1, 0, 1, 1, 1, 0, 0, 0, 0, 0, 1, 1, 1, 1, 1, 0, 1, 0, 1,\n",
       "       1, 0, 0, 0, 0, 1, 1, 1, 0, 0, 0, 0, 1, 0, 1, 0, 0, 1, 1, 0, 1, 1,\n",
       "       0, 1, 0, 0, 1, 0, 0, 0, 1, 0, 1, 1, 0, 0, 0, 0, 0, 1, 0, 1, 0, 0,\n",
       "       0, 0, 1, 1, 0, 1, 1, 1, 1, 0, 0, 0, 0, 0, 0, 1, 1, 1, 0, 1, 0, 0,\n",
       "       1, 1, 0, 1, 0, 0, 1, 1, 0, 1, 1, 0, 1, 0, 0, 1, 0, 0, 1, 1, 0, 1,\n",
       "       1, 1, 1, 0, 0, 0, 0, 0, 0, 1, 1, 1, 1, 1, 1, 1, 1, 1, 0, 0, 0, 0,\n",
       "       1, 1, 0, 1, 1, 0, 1, 0, 0, 1, 0, 0, 1, 0, 1, 1, 0, 1, 0, 0, 1, 0,\n",
       "       1, 1, 1, 1, 1, 0, 0, 0, 0, 1, 1, 0, 0, 0, 1, 0, 1, 1, 0, 1, 1, 1,\n",
       "       0])"
      ]
     },
     "execution_count": 67,
     "metadata": {},
     "output_type": "execute_result"
    }
   ],
   "source": [
    "ypred= classifier.predict(x)\n",
    "ypred"
   ]
  },
  {
   "cell_type": "code",
   "execution_count": 68,
   "id": "84ad5608",
   "metadata": {},
   "outputs": [
    {
     "data": {
      "text/plain": [
       "1.0"
      ]
     },
     "execution_count": 68,
     "metadata": {},
     "output_type": "execute_result"
    }
   ],
   "source": [
    "accuracy_score(y, ypred)"
   ]
  },
  {
   "cell_type": "code",
   "execution_count": 69,
   "id": "ab24db16",
   "metadata": {},
   "outputs": [],
   "source": [
    "# input\n",
    "#0 5.8\t232\t59.22\t68\t0\n",
    "#1 5.1\t229\t65.23\t68\t0\n",
    "\n",
    "current = 5.8\n",
    "voltage = 232\n",
    "temperature = 59.22\n",
    "humidity = 68\n",
    "vibration = 0\n",
    "\n",
    "#current = 5.1\n",
    "#voltage = 229\n",
    "#temperature = 65.23\n",
    "#humidity = 68\n",
    "#vibration = 0\n"
   ]
  },
  {
   "cell_type": "code",
   "execution_count": 70,
   "id": "ccf7e256",
   "metadata": {},
   "outputs": [],
   "source": [
    "test = [[current, voltage, temperature, humidity, vibration]]\n"
   ]
  },
  {
   "cell_type": "code",
   "execution_count": 110,
   "id": "c8014885",
   "metadata": {},
   "outputs": [],
   "source": [
    "def give_pred(test):\n",
    "    prediction=classifier.predict(test)\n",
    "    \n",
    "    if prediction == 0:\n",
    "       return('System Failed')\n",
    "    else:\n",
    "       return('System Work')\n",
    "   "
   ]
  },
  {
   "cell_type": "code",
   "execution_count": 111,
   "id": "7609647c",
   "metadata": {},
   "outputs": [
    {
     "name": "stdout",
     "output_type": "stream",
     "text": [
      "System Failed\n"
     ]
    }
   ],
   "source": [
    "print(give_pred(test))"
   ]
  },
  {
   "cell_type": "code",
   "execution_count": null,
   "id": "74ffe56f",
   "metadata": {},
   "outputs": [],
   "source": []
  },
  {
   "cell_type": "code",
   "execution_count": null,
   "id": "00152217",
   "metadata": {},
   "outputs": [],
   "source": []
  },
  {
   "cell_type": "code",
   "execution_count": null,
   "id": "a434608e",
   "metadata": {},
   "outputs": [],
   "source": []
  },
  {
   "cell_type": "code",
   "execution_count": null,
   "id": "2389e963",
   "metadata": {},
   "outputs": [],
   "source": []
  }
 ],
 "metadata": {
  "kernelspec": {
   "display_name": "Python 3 (ipykernel)",
   "language": "python",
   "name": "python3"
  },
  "language_info": {
   "codemirror_mode": {
    "name": "ipython",
    "version": 3
   },
   "file_extension": ".py",
   "mimetype": "text/x-python",
   "name": "python",
   "nbconvert_exporter": "python",
   "pygments_lexer": "ipython3",
   "version": "3.9.13"
  }
 },
 "nbformat": 4,
 "nbformat_minor": 5
}
